{
 "cells": [
  {
   "cell_type": "markdown",
   "id": "d1bf736e-ee9a-431b-b021-eb4e9f014624",
   "metadata": {},
   "source": [
    "## Loading SVM model"
   ]
  },
  {
   "cell_type": "code",
   "execution_count": null,
   "id": "a240b885-dc23-4f75-9a1b-1435d8d8b605",
   "metadata": {},
   "outputs": [],
   "source": [
    "from joblib import load\n",
    "\n",
    "# Load the saved SVM model\n",
    "svm_model = load('svm_model.joblib')\n"
   ]
  },
  {
   "cell_type": "markdown",
   "id": "b037ea95-aabf-44a1-9f8a-7b91e94e22cf",
   "metadata": {},
   "source": [
    "## Loading RF model"
   ]
  },
  {
   "cell_type": "code",
   "execution_count": null,
   "id": "3eeb372c-0d4f-4728-a006-9b48942a9e17",
   "metadata": {},
   "outputs": [],
   "source": [
    "from joblib import load\n",
    "\n",
    "# Load the saved Random Forest model\n",
    "rf_model = load('random_forest_model.joblib')\n"
   ]
  },
  {
   "cell_type": "markdown",
   "id": "9f490b7c-8db3-431d-89a4-6b111d32270c",
   "metadata": {},
   "source": [
    "## Using the model to predict rice variety"
   ]
  },
  {
   "cell_type": "code",
   "execution_count": null,
   "id": "961adc76-8eb8-4947-84ea-6191d0580dd1",
   "metadata": {},
   "outputs": [],
   "source": [
    "# Assuming you have a test sample (X_test_lbp) for prediction\n",
    "# For SVM\n",
    "svm_prediction = svm_model.predict(X_test_lbp)\n",
    "\n",
    "# For Random Forest\n",
    "rf_prediction = rf_model.predict(X_test_lbp)\n"
   ]
  }
 ],
 "metadata": {
  "kernelspec": {
   "display_name": "genderClassification",
   "language": "python",
   "name": "genderclassification"
  },
  "language_info": {
   "codemirror_mode": {
    "name": "ipython",
    "version": 3
   },
   "file_extension": ".py",
   "mimetype": "text/x-python",
   "name": "python",
   "nbconvert_exporter": "python",
   "pygments_lexer": "ipython3",
   "version": "3.10.5"
  }
 },
 "nbformat": 4,
 "nbformat_minor": 5
}
